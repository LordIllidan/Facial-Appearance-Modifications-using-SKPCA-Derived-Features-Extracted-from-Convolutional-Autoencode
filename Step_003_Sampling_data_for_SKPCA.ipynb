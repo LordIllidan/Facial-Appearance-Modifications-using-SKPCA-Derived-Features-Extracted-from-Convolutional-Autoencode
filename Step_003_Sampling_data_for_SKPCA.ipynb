{
 "cells": [
  {
   "cell_type": "code",
   "execution_count": 1,
   "metadata": {},
   "outputs": [
    {
     "name": "stderr",
     "output_type": "stream",
     "text": [
      "C:\\Users\\ilida\\AppData\\Roaming\\Python\\Python37\\site-packages\\sklearn\\externals\\joblib\\__init__.py:15: FutureWarning: sklearn.externals.joblib is deprecated in 0.21 and will be removed in 0.23. Please import this functionality directly from joblib, which can be installed with: pip install joblib. If this warning is raised when loading pickled models, you may need to re-serialize those models with scikit-learn 0.21+.\n",
      "  warnings.warn(msg, category=FutureWarning)\n"
     ]
    }
   ],
   "source": [
    "from __future__ import absolute_import, division, print_function, unicode_literals\n",
    "from ipywidgets import interact, interactive, fixed\n",
    "import ipywidgets as widgets\n",
    "import pandas as pd\n",
    "import numpy as np\n",
    "from sklearn.metrics.pairwise import euclidean_distances\n",
    "from scipy.linalg import eigh, svd\n",
    "from scipy import exp\n",
    "import time\n",
    "import glob\n",
    "import PIL\n",
    "import imageio\n",
    "import pathlib\n",
    "import matplotlib.pyplot as plt\n",
    "import tensorflow as tf\n",
    "from scipy import linalg\n",
    "import numpy as np\n",
    "layers = tf.keras.layers\n",
    "import os\n",
    "import cv2\n",
    "from IPython.display import clear_output\n",
    "from sklearn.externals import joblib \n",
    "import matplotlib.pyplot as plt\n",
    "import matplotlib\n",
    "from matplotlib import pyplot\n",
    "from itertools import cycle, islice\n",
    "from sklearn.metrics.pairwise import pairwise_kernels\n",
    "from sklearn.preprocessing import MinMaxScaler, StandardScaler\n",
    "colors = np.array(list(islice(cycle([\"#377eb8\", \"#ff7f00\", \"#4daf4a\",\n",
    "                                                 \"#f781bf\", \"#a65628\", \"#984ea3\",\n",
    "                                                 \"#999999\", \"#e41a1c\", \"#dede00\"]),\n",
    "                                          int(20 + 1))))"
   ]
  },
  {
   "cell_type": "code",
   "execution_count": 2,
   "metadata": {},
   "outputs": [],
   "source": [
    "import seaborn as sns\n",
    "cmap = sns.cubehelix_palette(as_cmap=True)"
   ]
  },
  {
   "cell_type": "code",
   "execution_count": 3,
   "metadata": {},
   "outputs": [],
   "source": [
    "from IPython.display import clear_output"
   ]
  },
  {
   "cell_type": "code",
   "execution_count": 4,
   "metadata": {},
   "outputs": [],
   "source": [
    "def ToVector(Y):\n",
    "    a = np.unique(Y)\n",
    "    yvec = np.zeros((Y.shape[0], a.shape[0]))\n",
    "    for i in range(0,Y.shape[0]):\n",
    "        yvec[i,:] = a == Y[i]\n",
    "    return yvec"
   ]
  },
  {
   "cell_type": "code",
   "execution_count": 5,
   "metadata": {},
   "outputs": [],
   "source": [
    "def LabelKernel(X,Y):\n",
    "    X = (np.array(X))\n",
    "    Y = (np.array(Y))\n",
    "    L = np.dot(X,Y.T) * 1\n",
    "    return np.transpose(L);"
   ]
  },
  {
   "cell_type": "code",
   "execution_count": 6,
   "metadata": {},
   "outputs": [],
   "source": [
    "def decode_img(img):\n",
    "    # convert the compressed string to a 3D uint8 tensor\n",
    "    img = tf.image.decode_jpeg(img, channels=3)\n",
    "    # Use `convert_image_dtype` to convert to floats in the [0,1] range.\n",
    "    img = tf.image.convert_image_dtype(img, tf.float32)\n",
    "    # resize the image to the desired size.\n",
    "    return tf.image.resize(img, [256, 256])\n",
    "\n",
    "def process_path(file_path):\n",
    "    # load the raw data from the file as a string\n",
    "    img = tf.io.read_file(file_path)\n",
    "    img = decode_img(img)\n",
    "    return img"
   ]
  },
  {
   "cell_type": "code",
   "execution_count": 7,
   "metadata": {},
   "outputs": [],
   "source": [
    "dir_with_labels = \"D:\\\\Labels\\\\\"\n",
    "\n",
    "df = pd.read_csv(dir_with_labels+\"labels_and_encoded_images.csv\")\n"
   ]
  },
  {
   "cell_type": "code",
   "execution_count": 10,
   "metadata": {},
   "outputs": [],
   "source": [
    "index_for_data = 0"
   ]
  },
  {
   "cell_type": "code",
   "execution_count": 11,
   "metadata": {},
   "outputs": [
    {
     "data": {
      "text/plain": [
       "2000"
      ]
     },
     "execution_count": 11,
     "metadata": {},
     "output_type": "execute_result"
    }
   ],
   "source": [
    "min_number = 2000"
   ]
  },
  {
   "cell_type": "code",
   "execution_count": 12,
   "metadata": {},
   "outputs": [],
   "source": [
    "df['faceAttributes_age'] = df['faceAttributes_age']/100"
   ]
  },
  {
   "cell_type": "code",
   "execution_count": 13,
   "metadata": {},
   "outputs": [
    {
     "data": {
      "text/html": [
       "<div>\n",
       "<style scoped>\n",
       "    .dataframe tbody tr th:only-of-type {\n",
       "        vertical-align: middle;\n",
       "    }\n",
       "\n",
       "    .dataframe tbody tr th {\n",
       "        vertical-align: top;\n",
       "    }\n",
       "\n",
       "    .dataframe thead th {\n",
       "        text-align: right;\n",
       "    }\n",
       "</style>\n",
       "<table border=\"1\" class=\"dataframe\">\n",
       "  <thead>\n",
       "    <tr style=\"text-align: right;\">\n",
       "      <th></th>\n",
       "      <th>faceAttributes_age</th>\n",
       "      <th>faceAttributes_facialHair_beard</th>\n",
       "      <th>faceAttributes_facialHair_moustache</th>\n",
       "      <th>faceAttributes_facialHair_sideburns</th>\n",
       "      <th>faceAttributes_gender_female</th>\n",
       "      <th>faceAttributes_gender_male</th>\n",
       "      <th>faceAttributes_smile</th>\n",
       "      <th>faceAttributes_glasses_NoGlasses</th>\n",
       "      <th>faceAttributes_glasses_ReadingGlasses</th>\n",
       "      <th>faceAttributes_glasses_Sunglasses</th>\n",
       "      <th>...</th>\n",
       "      <th>4086</th>\n",
       "      <th>4087</th>\n",
       "      <th>4088</th>\n",
       "      <th>4089</th>\n",
       "      <th>4090</th>\n",
       "      <th>4091</th>\n",
       "      <th>4092</th>\n",
       "      <th>4093</th>\n",
       "      <th>4094</th>\n",
       "      <th>4095</th>\n",
       "    </tr>\n",
       "  </thead>\n",
       "  <tbody>\n",
       "    <tr>\n",
       "      <th>count</th>\n",
       "      <td>58935.000000</td>\n",
       "      <td>58935.000000</td>\n",
       "      <td>58935.000000</td>\n",
       "      <td>58935.000000</td>\n",
       "      <td>58935.000000</td>\n",
       "      <td>58935.000000</td>\n",
       "      <td>58935.000000</td>\n",
       "      <td>58935.000000</td>\n",
       "      <td>58935.000000</td>\n",
       "      <td>58935.000000</td>\n",
       "      <td>...</td>\n",
       "      <td>58935.000000</td>\n",
       "      <td>58935.000000</td>\n",
       "      <td>58935.000000</td>\n",
       "      <td>58935.000000</td>\n",
       "      <td>58935.000000</td>\n",
       "      <td>58935.000000</td>\n",
       "      <td>58935.000000</td>\n",
       "      <td>58935.000000</td>\n",
       "      <td>58935.000000</td>\n",
       "      <td>58935.000000</td>\n",
       "    </tr>\n",
       "    <tr>\n",
       "      <th>mean</th>\n",
       "      <td>0.329710</td>\n",
       "      <td>0.089414</td>\n",
       "      <td>0.087096</td>\n",
       "      <td>0.062781</td>\n",
       "      <td>0.590481</td>\n",
       "      <td>0.409519</td>\n",
       "      <td>0.540084</td>\n",
       "      <td>0.940969</td>\n",
       "      <td>0.032816</td>\n",
       "      <td>0.025265</td>\n",
       "      <td>...</td>\n",
       "      <td>0.302157</td>\n",
       "      <td>-0.633458</td>\n",
       "      <td>-0.148120</td>\n",
       "      <td>0.129048</td>\n",
       "      <td>0.183289</td>\n",
       "      <td>-0.042559</td>\n",
       "      <td>0.292965</td>\n",
       "      <td>-0.041263</td>\n",
       "      <td>-0.487850</td>\n",
       "      <td>-0.587860</td>\n",
       "    </tr>\n",
       "    <tr>\n",
       "      <th>std</th>\n",
       "      <td>0.101254</td>\n",
       "      <td>0.156479</td>\n",
       "      <td>0.153657</td>\n",
       "      <td>0.112186</td>\n",
       "      <td>0.491749</td>\n",
       "      <td>0.491749</td>\n",
       "      <td>0.460972</td>\n",
       "      <td>0.235685</td>\n",
       "      <td>0.178156</td>\n",
       "      <td>0.156931</td>\n",
       "      <td>...</td>\n",
       "      <td>2.669264</td>\n",
       "      <td>1.850282</td>\n",
       "      <td>2.504958</td>\n",
       "      <td>2.537635</td>\n",
       "      <td>2.713038</td>\n",
       "      <td>2.841852</td>\n",
       "      <td>2.555108</td>\n",
       "      <td>1.934434</td>\n",
       "      <td>2.361831</td>\n",
       "      <td>3.145524</td>\n",
       "    </tr>\n",
       "    <tr>\n",
       "      <th>min</th>\n",
       "      <td>0.000000</td>\n",
       "      <td>0.000000</td>\n",
       "      <td>0.000000</td>\n",
       "      <td>0.000000</td>\n",
       "      <td>0.000000</td>\n",
       "      <td>0.000000</td>\n",
       "      <td>0.000000</td>\n",
       "      <td>0.000000</td>\n",
       "      <td>0.000000</td>\n",
       "      <td>0.000000</td>\n",
       "      <td>...</td>\n",
       "      <td>-12.117503</td>\n",
       "      <td>-11.564065</td>\n",
       "      <td>-12.704538</td>\n",
       "      <td>-11.551445</td>\n",
       "      <td>-11.918502</td>\n",
       "      <td>-14.012863</td>\n",
       "      <td>-12.572187</td>\n",
       "      <td>-10.265343</td>\n",
       "      <td>-11.810198</td>\n",
       "      <td>-19.859505</td>\n",
       "    </tr>\n",
       "    <tr>\n",
       "      <th>25%</th>\n",
       "      <td>0.270000</td>\n",
       "      <td>0.000000</td>\n",
       "      <td>0.000000</td>\n",
       "      <td>0.000000</td>\n",
       "      <td>0.000000</td>\n",
       "      <td>0.000000</td>\n",
       "      <td>0.002000</td>\n",
       "      <td>1.000000</td>\n",
       "      <td>0.000000</td>\n",
       "      <td>0.000000</td>\n",
       "      <td>...</td>\n",
       "      <td>-1.445460</td>\n",
       "      <td>-1.831588</td>\n",
       "      <td>-1.747872</td>\n",
       "      <td>-1.522061</td>\n",
       "      <td>-1.575365</td>\n",
       "      <td>-1.860151</td>\n",
       "      <td>-1.364650</td>\n",
       "      <td>-1.299233</td>\n",
       "      <td>-2.043088</td>\n",
       "      <td>-2.594504</td>\n",
       "    </tr>\n",
       "    <tr>\n",
       "      <th>50%</th>\n",
       "      <td>0.310000</td>\n",
       "      <td>0.000000</td>\n",
       "      <td>0.000000</td>\n",
       "      <td>0.000000</td>\n",
       "      <td>1.000000</td>\n",
       "      <td>0.000000</td>\n",
       "      <td>0.723000</td>\n",
       "      <td>1.000000</td>\n",
       "      <td>0.000000</td>\n",
       "      <td>0.000000</td>\n",
       "      <td>...</td>\n",
       "      <td>0.283444</td>\n",
       "      <td>-0.627177</td>\n",
       "      <td>-0.141278</td>\n",
       "      <td>0.135502</td>\n",
       "      <td>0.164186</td>\n",
       "      <td>-0.038680</td>\n",
       "      <td>0.302701</td>\n",
       "      <td>-0.066989</td>\n",
       "      <td>-0.512527</td>\n",
       "      <td>-0.594621</td>\n",
       "    </tr>\n",
       "    <tr>\n",
       "      <th>75%</th>\n",
       "      <td>0.360000</td>\n",
       "      <td>0.100000</td>\n",
       "      <td>0.100000</td>\n",
       "      <td>0.100000</td>\n",
       "      <td>1.000000</td>\n",
       "      <td>1.000000</td>\n",
       "      <td>1.000000</td>\n",
       "      <td>1.000000</td>\n",
       "      <td>0.000000</td>\n",
       "      <td>0.000000</td>\n",
       "      <td>...</td>\n",
       "      <td>2.019657</td>\n",
       "      <td>0.556483</td>\n",
       "      <td>1.475436</td>\n",
       "      <td>1.777311</td>\n",
       "      <td>1.911922</td>\n",
       "      <td>1.818206</td>\n",
       "      <td>1.953811</td>\n",
       "      <td>1.189055</td>\n",
       "      <td>1.045599</td>\n",
       "      <td>1.432242</td>\n",
       "    </tr>\n",
       "    <tr>\n",
       "      <th>max</th>\n",
       "      <td>0.720000</td>\n",
       "      <td>0.900000</td>\n",
       "      <td>0.900000</td>\n",
       "      <td>0.900000</td>\n",
       "      <td>1.000000</td>\n",
       "      <td>1.000000</td>\n",
       "      <td>1.000000</td>\n",
       "      <td>1.000000</td>\n",
       "      <td>1.000000</td>\n",
       "      <td>1.000000</td>\n",
       "      <td>...</td>\n",
       "      <td>15.032414</td>\n",
       "      <td>9.223302</td>\n",
       "      <td>11.880507</td>\n",
       "      <td>12.555540</td>\n",
       "      <td>15.078077</td>\n",
       "      <td>16.208220</td>\n",
       "      <td>12.922899</td>\n",
       "      <td>12.543044</td>\n",
       "      <td>12.075478</td>\n",
       "      <td>16.900230</td>\n",
       "    </tr>\n",
       "  </tbody>\n",
       "</table>\n",
       "<p>8 rows × 4114 columns</p>\n",
       "</div>"
      ],
      "text/plain": [
       "       faceAttributes_age  faceAttributes_facialHair_beard  \\\n",
       "count        58935.000000                     58935.000000   \n",
       "mean             0.329710                         0.089414   \n",
       "std              0.101254                         0.156479   \n",
       "min              0.000000                         0.000000   \n",
       "25%              0.270000                         0.000000   \n",
       "50%              0.310000                         0.000000   \n",
       "75%              0.360000                         0.100000   \n",
       "max              0.720000                         0.900000   \n",
       "\n",
       "       faceAttributes_facialHair_moustache  \\\n",
       "count                         58935.000000   \n",
       "mean                              0.087096   \n",
       "std                               0.153657   \n",
       "min                               0.000000   \n",
       "25%                               0.000000   \n",
       "50%                               0.000000   \n",
       "75%                               0.100000   \n",
       "max                               0.900000   \n",
       "\n",
       "       faceAttributes_facialHair_sideburns  faceAttributes_gender_female  \\\n",
       "count                         58935.000000                  58935.000000   \n",
       "mean                              0.062781                      0.590481   \n",
       "std                               0.112186                      0.491749   \n",
       "min                               0.000000                      0.000000   \n",
       "25%                               0.000000                      0.000000   \n",
       "50%                               0.000000                      1.000000   \n",
       "75%                               0.100000                      1.000000   \n",
       "max                               0.900000                      1.000000   \n",
       "\n",
       "       faceAttributes_gender_male  faceAttributes_smile  \\\n",
       "count                58935.000000          58935.000000   \n",
       "mean                     0.409519              0.540084   \n",
       "std                      0.491749              0.460972   \n",
       "min                      0.000000              0.000000   \n",
       "25%                      0.000000              0.002000   \n",
       "50%                      0.000000              0.723000   \n",
       "75%                      1.000000              1.000000   \n",
       "max                      1.000000              1.000000   \n",
       "\n",
       "       faceAttributes_glasses_NoGlasses  \\\n",
       "count                      58935.000000   \n",
       "mean                           0.940969   \n",
       "std                            0.235685   \n",
       "min                            0.000000   \n",
       "25%                            1.000000   \n",
       "50%                            1.000000   \n",
       "75%                            1.000000   \n",
       "max                            1.000000   \n",
       "\n",
       "       faceAttributes_glasses_ReadingGlasses  \\\n",
       "count                           58935.000000   \n",
       "mean                                0.032816   \n",
       "std                                 0.178156   \n",
       "min                                 0.000000   \n",
       "25%                                 0.000000   \n",
       "50%                                 0.000000   \n",
       "75%                                 0.000000   \n",
       "max                                 1.000000   \n",
       "\n",
       "       faceAttributes_glasses_Sunglasses  ...          4086          4087  \\\n",
       "count                       58935.000000  ...  58935.000000  58935.000000   \n",
       "mean                            0.025265  ...      0.302157     -0.633458   \n",
       "std                             0.156931  ...      2.669264      1.850282   \n",
       "min                             0.000000  ...    -12.117503    -11.564065   \n",
       "25%                             0.000000  ...     -1.445460     -1.831588   \n",
       "50%                             0.000000  ...      0.283444     -0.627177   \n",
       "75%                             0.000000  ...      2.019657      0.556483   \n",
       "max                             1.000000  ...     15.032414      9.223302   \n",
       "\n",
       "               4088          4089          4090          4091          4092  \\\n",
       "count  58935.000000  58935.000000  58935.000000  58935.000000  58935.000000   \n",
       "mean      -0.148120      0.129048      0.183289     -0.042559      0.292965   \n",
       "std        2.504958      2.537635      2.713038      2.841852      2.555108   \n",
       "min      -12.704538    -11.551445    -11.918502    -14.012863    -12.572187   \n",
       "25%       -1.747872     -1.522061     -1.575365     -1.860151     -1.364650   \n",
       "50%       -0.141278      0.135502      0.164186     -0.038680      0.302701   \n",
       "75%        1.475436      1.777311      1.911922      1.818206      1.953811   \n",
       "max       11.880507     12.555540     15.078077     16.208220     12.922899   \n",
       "\n",
       "               4093          4094          4095  \n",
       "count  58935.000000  58935.000000  58935.000000  \n",
       "mean      -0.041263     -0.487850     -0.587860  \n",
       "std        1.934434      2.361831      3.145524  \n",
       "min      -10.265343    -11.810198    -19.859505  \n",
       "25%       -1.299233     -2.043088     -2.594504  \n",
       "50%       -0.066989     -0.512527     -0.594621  \n",
       "75%        1.189055      1.045599      1.432242  \n",
       "max       12.543044     12.075478     16.900230  \n",
       "\n",
       "[8 rows x 4114 columns]"
      ]
     },
     "execution_count": 13,
     "metadata": {},
     "output_type": "execute_result"
    }
   ],
   "source": [
    "df.describe()"
   ]
  },
  {
   "cell_type": "code",
   "execution_count": 14,
   "metadata": {},
   "outputs": [],
   "source": [
    "df_labels  = df"
   ]
  },
  {
   "cell_type": "code",
   "execution_count": 15,
   "metadata": {},
   "outputs": [],
   "source": [
    "columns = ['faceAttributes_age', \n",
    "       'faceAttributes_facialHair_beard',\n",
    "       'faceAttributes_gender_female','faceAttributes_gender_male',\n",
    "       'faceAttributes_smile','imgId','mse'\n",
    "                    ]"
   ]
  },
  {
   "cell_type": "code",
   "execution_count": 16,
   "metadata": {},
   "outputs": [],
   "source": [
    "df_labels = df_labels[columns]"
   ]
  },
  {
   "cell_type": "code",
   "execution_count": 17,
   "metadata": {},
   "outputs": [
    {
     "data": {
      "text/html": [
       "<div>\n",
       "<style scoped>\n",
       "    .dataframe tbody tr th:only-of-type {\n",
       "        vertical-align: middle;\n",
       "    }\n",
       "\n",
       "    .dataframe tbody tr th {\n",
       "        vertical-align: top;\n",
       "    }\n",
       "\n",
       "    .dataframe thead th {\n",
       "        text-align: right;\n",
       "    }\n",
       "</style>\n",
       "<table border=\"1\" class=\"dataframe\">\n",
       "  <thead>\n",
       "    <tr style=\"text-align: right;\">\n",
       "      <th></th>\n",
       "      <th>faceAttributes_age</th>\n",
       "      <th>faceAttributes_facialHair_beard</th>\n",
       "      <th>faceAttributes_gender_female</th>\n",
       "      <th>faceAttributes_gender_male</th>\n",
       "      <th>faceAttributes_smile</th>\n",
       "      <th>imgId</th>\n",
       "      <th>mse</th>\n",
       "    </tr>\n",
       "  </thead>\n",
       "  <tbody>\n",
       "    <tr>\n",
       "      <th>0</th>\n",
       "      <td>0.33</td>\n",
       "      <td>0.0</td>\n",
       "      <td>1</td>\n",
       "      <td>0</td>\n",
       "      <td>1.000</td>\n",
       "      <td>000001.jpg</td>\n",
       "      <td>0.020575</td>\n",
       "    </tr>\n",
       "    <tr>\n",
       "      <th>1</th>\n",
       "      <td>0.39</td>\n",
       "      <td>0.0</td>\n",
       "      <td>1</td>\n",
       "      <td>0</td>\n",
       "      <td>0.001</td>\n",
       "      <td>000022.jpg</td>\n",
       "      <td>0.005828</td>\n",
       "    </tr>\n",
       "    <tr>\n",
       "      <th>2</th>\n",
       "      <td>0.30</td>\n",
       "      <td>0.0</td>\n",
       "      <td>1</td>\n",
       "      <td>0</td>\n",
       "      <td>0.001</td>\n",
       "      <td>000024.jpg</td>\n",
       "      <td>0.018337</td>\n",
       "    </tr>\n",
       "    <tr>\n",
       "      <th>3</th>\n",
       "      <td>0.25</td>\n",
       "      <td>0.0</td>\n",
       "      <td>1</td>\n",
       "      <td>0</td>\n",
       "      <td>0.000</td>\n",
       "      <td>000026.jpg</td>\n",
       "      <td>0.010200</td>\n",
       "    </tr>\n",
       "    <tr>\n",
       "      <th>4</th>\n",
       "      <td>0.31</td>\n",
       "      <td>0.0</td>\n",
       "      <td>1</td>\n",
       "      <td>0</td>\n",
       "      <td>1.000</td>\n",
       "      <td>000027.jpg</td>\n",
       "      <td>0.006397</td>\n",
       "    </tr>\n",
       "  </tbody>\n",
       "</table>\n",
       "</div>"
      ],
      "text/plain": [
       "   faceAttributes_age  faceAttributes_facialHair_beard  \\\n",
       "0                0.33                              0.0   \n",
       "1                0.39                              0.0   \n",
       "2                0.30                              0.0   \n",
       "3                0.25                              0.0   \n",
       "4                0.31                              0.0   \n",
       "\n",
       "   faceAttributes_gender_female  faceAttributes_gender_male  \\\n",
       "0                             1                           0   \n",
       "1                             1                           0   \n",
       "2                             1                           0   \n",
       "3                             1                           0   \n",
       "4                             1                           0   \n",
       "\n",
       "   faceAttributes_smile       imgId       mse  \n",
       "0                 1.000  000001.jpg  0.020575  \n",
       "1                 0.001  000022.jpg  0.005828  \n",
       "2                 0.001  000024.jpg  0.018337  \n",
       "3                 0.000  000026.jpg  0.010200  \n",
       "4                 1.000  000027.jpg  0.006397  "
      ]
     },
     "execution_count": 17,
     "metadata": {},
     "output_type": "execute_result"
    }
   ],
   "source": [
    "df_labels.head()"
   ]
  },
  {
   "cell_type": "code",
   "execution_count": 18,
   "metadata": {},
   "outputs": [
    {
     "data": {
      "image/png": "[encoded data removed]",
      "text/plain": [
       "<Figure size 864x864 with 4 Axes>"
      ]
     },
     "metadata": {
      "needs_background": "light"
     },
     "output_type": "display_data"
    }
   ],
   "source": [
    "df[['faceAttributes_age', \n",
    "       'faceAttributes_facialHair_beard',\n",
    "       'faceAttributes_smile']].hist(bins=10,figsize = (12,12))\n",
    "plt.savefig('histograms.pdf')"
   ]
  },
  {
   "cell_type": "code",
   "execution_count": 19,
   "metadata": {},
   "outputs": [
    {
     "data": {
      "image/png": "[encoded data removed]",
      "text/plain": [
       "<Figure size 864x864 with 4 Axes>"
      ]
     },
     "metadata": {
      "needs_background": "light"
     },
     "output_type": "display_data"
    }
   ],
   "source": [
    "df[df[\"faceAttributes_gender_male\"] == 1][['faceAttributes_age', \n",
    "       'faceAttributes_facialHair_beard',\n",
    "       'faceAttributes_smile']].hist(bins=10,figsize = (12,12))\n",
    "plt.savefig('histograms_mens.pdf')"
   ]
  },
  {
   "cell_type": "code",
   "execution_count": 20,
   "metadata": {},
   "outputs": [
    {
     "data": {
      "image/png": "[encoded data removed]",
      "text/plain": [
       "<Figure size 864x864 with 4 Axes>"
      ]
     },
     "metadata": {
      "needs_background": "light"
     },
     "output_type": "display_data"
    }
   ],
   "source": [
    "df[df[\"faceAttributes_gender_male\"] == 0][['faceAttributes_age', \n",
    "       'faceAttributes_facialHair_beard',\n",
    "       'faceAttributes_smile']].hist(bins=10,figsize = (12,12))\n",
    "plt.savefig('histograms_womens.pdf')"
   ]
  },
  {
   "cell_type": "code",
   "execution_count": 21,
   "metadata": {},
   "outputs": [],
   "source": [
    "df_class_0 = df[df[\"faceAttributes_gender_male\"] == 1]\n",
    "df_class_1 = df[df[\"faceAttributes_gender_male\"] == 0]\n",
    "\n",
    "idx_smallestwomen = df_class_0.nsmallest(8,[\"mse\"]).index\n",
    "idx_smallestmen = df_class_1.nsmallest(8,[\"mse\"]).index\n",
    "\n",
    "\n",
    "idx_smallestwomen = df.loc[idx_smallestwomen]\n",
    "idx_smallestmen = df.loc[idx_smallestmen]\n",
    "\n",
    "df_class_0_under = df_class_0.sample(min_number)\n",
    "df_class_1_under = df_class_1.sample(min_number)\n",
    "df_test_under = pd.concat([df_class_0_under, df_class_1_under,\n",
    "                           idx_smallestwomen,\n",
    "                           idx_smallestmen\n",
    "                          ], axis=0)\n",
    "\n",
    "df1 = df_test_under.reset_index(drop=True)\n"
   ]
  },
  {
   "cell_type": "code",
   "execution_count": 22,
   "metadata": {},
   "outputs": [
    {
     "data": {
      "text/plain": [
       "0    1.000\n",
       "1    0.001\n",
       "2    0.001\n",
       "3    0.000\n",
       "4    1.000\n",
       "Name: faceAttributes_smile, dtype: float64"
      ]
     },
     "execution_count": 22,
     "metadata": {},
     "output_type": "execute_result"
    }
   ],
   "source": [
    "df['faceAttributes_smile'].head()"
   ]
  },
  {
   "cell_type": "code",
   "execution_count": 23,
   "metadata": {},
   "outputs": [],
   "source": [
    "smiles = df.groupby(['faceAttributes_smile'])\n",
    "beard = df.groupby(['faceAttributes_facialHair_beard'])\n",
    "ages = df.groupby(['faceAttributes_age'])"
   ]
  },
  {
   "cell_type": "code",
   "execution_count": 24,
   "metadata": {},
   "outputs": [],
   "source": [
    "min_smiles=min(smiles['faceAttributes_age'].count().values)\n",
    "min_beards=min(beard['faceAttributes_age'].count().values)\n",
    "min_ages=min(ages['faceAttributes_age'].count().values)"
   ]
  },
  {
   "cell_type": "code",
   "execution_count": 25,
   "metadata": {},
   "outputs": [],
   "source": [
    "res = [df_test_under]\n",
    "res2 =  [df_test_under.index]"
   ]
  },
  {
   "cell_type": "code",
   "execution_count": 26,
   "metadata": {},
   "outputs": [],
   "source": [
    "for index,df_temp in smiles:\n",
    "    id_temp = df_temp.sample(min(12,df_temp.values.shape[0])).index\n",
    "    res2.append(id_temp)\n",
    "    res.append(df.loc[id_temp])\n",
    "for index,df_temp in beard:\n",
    "    id_temp = df_temp.sample(min(12,df_temp.values.shape[0])).index\n",
    "    res2.append(id_temp)\n",
    "    res.append(df.loc[id_temp])\n",
    "for index,df_temp in ages:\n",
    "    id_temp = df_temp.sample(min(12,df_temp.values.shape[0])).index\n",
    "    res2.append(id_temp)\n",
    "    res.append(df.loc[id_temp])\n",
    "for index,df_temp in df.groupby(['faceAttributes_facialHair_moustache']):\n",
    "    id_temp = df_temp.sample(min(12,df_temp.values.shape[0])).index\n",
    "    res2.append(id_temp)\n",
    "    res.append(df.loc[id_temp])\n",
    "for index,df_temp in df.groupby(['faceAttributes_facialHair_sideburns']):\n",
    "    id_temp = df_temp.sample(min(12,df_temp.values.shape[0])).index\n",
    "    res2.append(id_temp)\n",
    "    res.append(df.loc[id_temp])"
   ]
  },
  {
   "cell_type": "code",
   "execution_count": 27,
   "metadata": {},
   "outputs": [],
   "source": [
    "df2 = pd.concat(res, axis=0)\n",
    "df2 = df2.drop_duplicates(subset=df.columns[index_for_data:], keep=\"last\").reset_index(drop=True)"
   ]
  },
  {
   "cell_type": "code",
   "execution_count": 29,
   "metadata": {},
   "outputs": [
    {
     "data": {
      "text/plain": [
       "array([[<matplotlib.axes._subplots.AxesSubplot object at 0x00000224955DC048>,\n",
       "        <matplotlib.axes._subplots.AxesSubplot object at 0x000002251AA8E438>],\n",
       "       [<matplotlib.axes._subplots.AxesSubplot object at 0x000002251999A780>,\n",
       "        <matplotlib.axes._subplots.AxesSubplot object at 0x00000225142B3E80>]],\n",
       "      dtype=object)"
      ]
     },
     "execution_count": 29,
     "metadata": {},
     "output_type": "execute_result"
    },
    {
     "data": {
      "image/png": "[encoded data removed]",
      "text/plain": [
       "<Figure size 864x864 with 4 Axes>"
      ]
     },
     "metadata": {
      "needs_background": "light"
     },
     "output_type": "display_data"
    }
   ],
   "source": [
    "df2[['faceAttributes_age', \n",
    "       'faceAttributes_facialHair_beard',\n",
    "       'faceAttributes_smile','faceAttributes_gender_male']].hist(bins=10,figsize = (12,12))"
   ]
  },
  {
   "cell_type": "code",
   "execution_count": 30,
   "metadata": {},
   "outputs": [],
   "source": [
    "src = os.path.join(dir_with_labels, \"data_picked_for_SKPCA.csv\")\n",
    "df2.to_csv(src,index=False)"
   ]
  }
 ],
 "metadata": {
  "kernelspec": {
   "display_name": "Python 3",
   "language": "python",
   "name": "python3"
  },
  "language_info": {
   "codemirror_mode": {
    "name": "ipython",
    "version": 3
   },
   "file_extension": ".py",
   "mimetype": "text/x-python",
   "name": "python",
   "nbconvert_exporter": "python",
   "pygments_lexer": "ipython3",
   "version": "3.7.3"
  }
 },
 "nbformat": 4,
 "nbformat_minor": 4
}
