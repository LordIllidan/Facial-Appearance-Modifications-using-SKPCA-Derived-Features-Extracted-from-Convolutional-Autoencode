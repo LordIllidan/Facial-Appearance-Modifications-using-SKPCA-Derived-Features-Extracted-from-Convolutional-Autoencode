{
 "cells": [
  {
   "cell_type": "code",
   "execution_count": 1,
   "metadata": {},
   "outputs": [
    {
     "name": "stderr",
     "output_type": "stream",
     "text": [
      "C:\\Users\\ilida\\AppData\\Roaming\\Python\\Python37\\site-packages\\sklearn\\externals\\joblib\\__init__.py:15: FutureWarning: sklearn.externals.joblib is deprecated in 0.21 and will be removed in 0.23. Please import this functionality directly from joblib, which can be installed with: pip install joblib. If this warning is raised when loading pickled models, you may need to re-serialize those models with scikit-learn 0.21+.\n",
      "  warnings.warn(msg, category=FutureWarning)\n"
     ]
    }
   ],
   "source": [
    "from __future__ import absolute_import, division, print_function, unicode_literals\n",
    "from ipywidgets import interact, interactive, fixed\n",
    "import ipywidgets as widgets\n",
    "import pandas as pd\n",
    "import numpy as np\n",
    "from sklearn.metrics.pairwise import euclidean_distances\n",
    "from scipy.linalg import eigh, svd\n",
    "from scipy import exp\n",
    "import time\n",
    "import glob\n",
    "import PIL\n",
    "import imageio\n",
    "import pathlib\n",
    "import matplotlib.pyplot as plt\n",
    "import tensorflow as tf\n",
    "from scipy import linalg\n",
    "import numpy as np\n",
    "layers = tf.keras.layers\n",
    "import os\n",
    "import cv2\n",
    "from IPython.display import clear_output\n",
    "from sklearn.externals import joblib \n",
    "import matplotlib.pyplot as plt\n",
    "import matplotlib\n",
    "from matplotlib import pyplot\n",
    "from itertools import cycle, islice\n",
    "from sklearn.metrics.pairwise import pairwise_kernels\n",
    "from sklearn.preprocessing import MinMaxScaler, StandardScaler\n",
    "colors = np.array(list(islice(cycle([\"#377eb8\", \"#ff7f00\", \"#4daf4a\",\n",
    "                                                 \"#f781bf\", \"#a65628\", \"#984ea3\",\n",
    "                                                 \"#999999\", \"#e41a1c\", \"#dede00\"]),\n",
    "                                          int(20 + 1))))"
   ]
  },
  {
   "cell_type": "code",
   "execution_count": 2,
   "metadata": {},
   "outputs": [],
   "source": [
    "import seaborn as sns\n",
    "cmap = sns.cubehelix_palette(as_cmap=True)"
   ]
  },
  {
   "cell_type": "code",
   "execution_count": 3,
   "metadata": {},
   "outputs": [],
   "source": [
    "from IPython.display import clear_output"
   ]
  },
  {
   "cell_type": "code",
   "execution_count": 16,
   "metadata": {},
   "outputs": [],
   "source": [
    "import pickle"
   ]
  },
  {
   "cell_type": "code",
   "execution_count": 4,
   "metadata": {},
   "outputs": [],
   "source": [
    "def ToVector(Y):\n",
    "    a = np.unique(Y)\n",
    "    yvec = np.zeros((Y.shape[0], a.shape[0]))\n",
    "    for i in range(0,Y.shape[0]):\n",
    "        yvec[i,:] = a == Y[i]\n",
    "    return yvec"
   ]
  },
  {
   "cell_type": "code",
   "execution_count": 5,
   "metadata": {},
   "outputs": [],
   "source": [
    "def LabelKernel(X,Y):\n",
    "    X = (np.array(X))\n",
    "    Y = (np.array(Y))\n",
    "    L = np.dot(X,Y.T) * 1\n",
    "    return np.transpose(L);"
   ]
  },
  {
   "cell_type": "code",
   "execution_count": 6,
   "metadata": {},
   "outputs": [],
   "source": [
    "def decode_img(img):\n",
    "    img = tf.image.decode_jpeg(img, channels=3)\n",
    "    img = tf.image.convert_image_dtype(img, tf.float32)\n",
    "    return tf.image.resize(img, [256, 256])\n",
    "\n",
    "def process_path(file_path):\n",
    "    img = tf.io.read_file(file_path)\n",
    "    img = decode_img(img)\n",
    "    return img"
   ]
  },
  {
   "cell_type": "code",
   "execution_count": 7,
   "metadata": {},
   "outputs": [],
   "source": [
    "dir_with_labels = \"D:\\\\Labels\\\\\"\n",
    "\n",
    "df = pd.read_csv(dir_with_labels+\"data_picked_for_SKPCA.csv\")\n"
   ]
  },
  {
   "cell_type": "code",
   "execution_count": 8,
   "metadata": {},
   "outputs": [],
   "source": [
    "index_for_data = df.columns.shape[0]-4096"
   ]
  },
  {
   "cell_type": "code",
   "execution_count": 9,
   "metadata": {},
   "outputs": [],
   "source": [
    "points_count = df.values.shape[0]"
   ]
  },
  {
   "cell_type": "code",
   "execution_count": 11,
   "metadata": {},
   "outputs": [],
   "source": [
    "data = df[df.columns[index_for_data:]].values"
   ]
  },
  {
   "cell_type": "code",
   "execution_count": 12,
   "metadata": {},
   "outputs": [],
   "source": [
    "labels_collection = []"
   ]
  },
  {
   "cell_type": "code",
   "execution_count": 13,
   "metadata": {},
   "outputs": [],
   "source": [
    "data_scaler = MinMaxScaler((0,1))\n",
    "data_scaled = data_scaler.fit(data).transform(data)"
   ]
  },
  {
   "cell_type": "code",
   "execution_count": 17,
   "metadata": {},
   "outputs": [],
   "source": [
    "pickle.dump(data_scaler, open(\"data_scaler_Model_SKPCA_Liniowy.p\",\"wb\"))\n",
    "pickle.dump(data_scaled, open(\"data_scaled_Model_SKPCA_Liniowy.p\",\"wb\"))"
   ]
  },
  {
   "cell_type": "code",
   "execution_count": 18,
   "metadata": {},
   "outputs": [],
   "source": [
    "labels_age_scaler = MinMaxScaler((0,1))\n",
    "labels_age_scaled = df[\"faceAttributes_age\"].values.reshape((data_scaled.shape[0], 1))\n",
    "\n",
    "ids = df[[\"imgId\",\"mse\"]].values\n",
    "\n",
    "smile = df[\"faceAttributes_smile\"].values.reshape((data_scaled.shape[0], 1))\n",
    "labels_collection.append((\"smile\",[(smile,1)],ids))\n",
    "labels_collection.append((\"age\",[(labels_age_scaled,1)],ids))\n",
    "gender = df[[\"faceAttributes_gender_female\",\"faceAttributes_gender_male\"]].values\n",
    "labels_collection.append((\"gender\",[(gender,1)],ids))\n",
    "beard = df[\"faceAttributes_facialHair_beard\"].values.reshape((data_scaled.shape[0], 1))\n",
    "labels_collection.append((\"facialHair_beard\",[(beard,1)],ids))"
   ]
  },
  {
   "cell_type": "code",
   "execution_count": 20,
   "metadata": {},
   "outputs": [],
   "source": [
    "gamma = 0.25"
   ]
  },
  {
   "cell_type": "code",
   "execution_count": 21,
   "metadata": {},
   "outputs": [],
   "source": [
    "K = pairwise_kernels(data_scaled, metric=\"rbf\", gamma=gamma)"
   ]
  },
  {
   "cell_type": "code",
   "execution_count": 23,
   "metadata": {},
   "outputs": [],
   "source": [
    "age = labels_collection[1][1][0][0]\n",
    "smile= labels_collection[0][1][0][0]\n",
    "gender = labels_collection[2][1][0][0]\n",
    "beard= labels_collection[3][1][0][0]"
   ]
  },
  {
   "cell_type": "code",
   "execution_count": 24,
   "metadata": {},
   "outputs": [],
   "source": [
    "L_age_linear = LabelKernel(age,age)\n",
    "L_smile_linear =  LabelKernel(smile,smile)\n",
    "L_gender_linear = LabelKernel(gender,gender)\n",
    "L_beard_linear =  LabelKernel(beard,beard)\n",
    "\n",
    "L_linear = L_age_linear+L_smile_linear+L_gender_linear+L_beard_linear\n",
    "\n",
    "del L_smile_linear\n",
    "del L_age_linear\n",
    "del L_gender_linear\n",
    "del L_beard_linear"
   ]
  },
  {
   "cell_type": "code",
   "execution_count": 25,
   "metadata": {},
   "outputs": [],
   "source": [
    "from mpl_toolkits.mplot3d import Axes3D"
   ]
  },
  {
   "cell_type": "code",
   "execution_count": 26,
   "metadata": {},
   "outputs": [],
   "source": [
    "l = data_scaled.shape[0]\n",
    "H = (np.eye(l, dtype=int))+(-1/l * np.ones(l, dtype=int))\n",
    "Q = K.dot(H).dot(L_linear).dot(H).dot(K)\n",
    "eigvals, eigenvec = eigh(Q,K)\n",
    "del Q\n",
    "eigenvec = eigenvec[:,::-1]\n",
    "eigvals = eigvals[::-1]\n",
    "K_trans = np.transpose(K).dot(eigenvec)\n",
    "del K\n",
    "\n",
    "\n",
    "pickle.dump(K_trans, open(\"K_trans_Model_SKPCA_Liniowy.p\",\"wb\"))\n",
    "pickle.dump(eigenvec, open(\"eigenvec_Model_SKPCA_Liniowy.p\",\"wb\"))"
   ]
  },
  {
   "cell_type": "code",
   "execution_count": 27,
   "metadata": {},
   "outputs": [],
   "source": [
    "class Model:\n",
    "    K_after_transformation = []\n",
    "    age = []\n",
    "    smile= []\n",
    "    gender_is_men = []\n",
    "    beard= []\n",
    "    ids =[]\n",
    "    eigvals =[]\n",
    "    def __init__(self,name):\n",
    "        self.Name = name\n",
    "        \n",
    "        \n",
    "model = Model(\"SKPCA liniowy\")\n",
    "model.K_after_transformation = K_trans[:,0:10]\n",
    "model.ids = ids\n",
    "model.ids_test = dft[[\"imgId\",\"mse\"]].values\n",
    "model.eigvals = eigvals[0:10]\n",
    "model.age = labels_collection[1][1][0][0].flatten()\n",
    "model.smile= labels_collection[0][1][0][0].flatten()\n",
    "model.gender_is_men = labels_collection[2][1][0][0][:,1].flatten()\n",
    "model.beard= labels_collection[3][1][0][0].flatten()"
   ]
  },
  {
   "cell_type": "code",
   "execution_count": 28,
   "metadata": {},
   "outputs": [],
   "source": [
    "pickle.dump(model, open(\"Model_SKPCA_Liniowy.p\",\"wb\"))"
   ]
  }
 ],
 "metadata": {
  "kernelspec": {
   "display_name": "Python 3",
   "language": "python",
   "name": "python3"
  },
  "language_info": {
   "codemirror_mode": {
    "name": "ipython",
    "version": 3
   },
   "file_extension": ".py",
   "mimetype": "text/x-python",
   "name": "python",
   "nbconvert_exporter": "python",
   "pygments_lexer": "ipython3",
   "version": "3.7.3"
  }
 },
 "nbformat": 4,
 "nbformat_minor": 4
}
